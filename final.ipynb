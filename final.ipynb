{
 "cells": [
  {
   "cell_type": "markdown",
   "id": "ef9e7caa",
   "metadata": {},
   "source": [
    "# data parsing"
   ]
  },
  {
   "cell_type": "code",
   "execution_count": null,
   "id": "33592541",
   "metadata": {},
   "outputs": [],
   "source": [
    "import csv\n",
    "from datetime import datetime\n",
    "import os\n",
    "import pandas as pd\n",
    "from bs4 import BeautifulSoup"
   ]
  },
  {
   "cell_type": "code",
   "execution_count": null,
   "id": "f1b7a8cc",
   "metadata": {},
   "outputs": [],
   "source": [
    "def get_content(div, value = None):\n",
    "    if div is None:\n",
    "        return value\n",
    "    return div.text.strip()\n",
    "\n",
    "\n",
    "def convert_date_string_to_datetime(date_str):\n",
    "    date_format = \"%d %B %Y\"\n",
    "    # transform to datetime\n",
    "    date_obj = datetime.strptime(date_str.strip(), date_format)\n",
    "    return date_obj\n",
    "\n",
    "\n",
    "def write_messages_to_csv(messages, csv_file):\n",
    "    # header\n",
    "    header = ['Time', 'From', 'Message','Date']\n",
    "\n",
    "    # write to csv\n",
    "    with open(csv_file, 'w', newline='', encoding='utf-8') as file:\n",
    "        writer = csv.writer(file)\n",
    "\n",
    "        writer.writerow(header)\n",
    "\n",
    "        for message in messages:\n",
    "            writer.writerow(message)\n",
    "\n",
    "\n",
    "def parse_html_and_extract_messages(html_file):\n",
    "    with open(html_file, 'r', encoding='utf-8') as file:\n",
    "        html_content = file.read()\n",
    "\n",
    "    # parse html\n",
    "    soup = BeautifulSoup(html_content, 'html.parser')\n",
    "\n",
    "    # find all div ele class=\"history\" \n",
    "    history_div = soup.find('div', class_='history')\n",
    "\n",
    "    if history_div:\n",
    "        # find all div ele class=\"message\"\n",
    "        message_divs = history_div.find_all('div', class_='message')\n",
    "\n",
    "        first_message = message_divs.pop(0)\n",
    "        message_date = first_message.text\n",
    "\n",
    "        message_date = convert_date_string_to_datetime(message_date)\n",
    "\n",
    "        messages = []\n",
    "        \n",
    "        # go thru message_div\n",
    "        last_name =None\n",
    "        for message_div in message_divs:\n",
    "            msg_date = message_div.find('div', class_='date')\n",
    "            msg_from_name = message_div.find('div', class_='from_name')\n",
    "            msg_text = message_div.find('div', class_='text')\n",
    "            \n",
    "            if msg_date is None:\n",
    "                continue\n",
    "                \n",
    "            name = get_content(msg_from_name)\n",
    "            \n",
    "            if name is not None:\n",
    "                last_name = name\n",
    "            messages.append([get_content(msg_date), get_content(msg_from_name, last_name), get_content(msg_text), str(message_date)] )\n",
    "\n",
    "        return  messages\n",
    "\n",
    "\n",
    "def process_html_files_in_directory(directory_path, output_csv):\n",
    "    all_messages = []\n",
    "\n",
    "    for root, dirs, files in os.walk(directory_path):\n",
    "        for file in files:\n",
    "            if file.endswith('.html'):\n",
    "                file_path = os.path.join(root, file)\n",
    "                messages = parse_html_and_extract_messages(file_path)\n",
    "                all_messages.extend(messages)\n",
    "\n",
    "    # write to csv\n",
    "    write_messages_to_csv(all_messages, output_csv)\n"
   ]
  },
  {
   "cell_type": "code",
   "execution_count": null,
   "id": "4aa8ecdb",
   "metadata": {},
   "outputs": [],
   "source": [
    "# process html extract data\n",
    "directory_path = 'Raw Data'\n",
    "output_csv = 'all_messages.csv'\n",
    "process_html_files_in_directory(directory_path, output_csv)\n",
    "\n",
    "\n",
    "# read \n",
    "df = pd.read_csv(\"all_messages.csv\")\n",
    "\n",
    "for date, group_df in df.groupby(by = 'Date'):\n",
    "    group_df.to_csv(f'data/{date}.csv', index= False)"
   ]
  },
  {
   "cell_type": "code",
   "execution_count": null,
   "id": "db9582d1",
   "metadata": {},
   "outputs": [],
   "source": []
  },
  {
   "cell_type": "code",
   "execution_count": null,
   "id": "1bffd3a6",
   "metadata": {},
   "outputs": [],
   "source": []
  },
  {
   "cell_type": "markdown",
   "id": "f96a1e3e",
   "metadata": {},
   "source": [
    "# data analysis"
   ]
  },
  {
   "cell_type": "markdown",
   "id": "743c34b6",
   "metadata": {},
   "source": [
    "## For each day, generate a summary of the content.  ( you can use chatgpt API )  "
   ]
  },
  {
   "cell_type": "code",
   "execution_count": null,
   "id": "a2978488",
   "metadata": {},
   "outputs": [],
   "source": [
    "# pip install openai\n",
    "from openai import OpenAI\n",
    "# OPENAI_API_KEY = \"paste key here\"\n",
    "# client = OpenAI(api_key=OPENAI_API_KEY)\n",
    "import config\n",
    "import os"
   ]
  },
  {
   "cell_type": "code",
   "execution_count": null,
   "id": "85550112",
   "metadata": {},
   "outputs": [],
   "source": [
    "def read_data(filepath):\n",
    "    with open(filepath) as f:\n",
    "        lines = f.readlines()\n",
    "        text = str(lines)\n",
    "        return text\n",
    "\n",
    "    \n",
    "def get_summary_and_save(quotes,filename):\n",
    "    client = OpenAI(\n",
    "        api_key=config.api_key,\n",
    "        base_url=config.base_url\n",
    "    )\n",
    "\n",
    "    \n",
    "    def format_message(role, content):\n",
    "        return {\"role\": role, \"content\": content}\n",
    "\n",
    "\n",
    "    def get_response(messages):\n",
    "        completion = client.chat.completions.create(\n",
    "            model='gpt-4-1106-preview', \n",
    "            messages=messages,\n",
    "        )\n",
    "        content = completion.choices[0].message.content\n",
    "        return content\n",
    "\n",
    "\n",
    "    instructions = f\"\"\"\n",
    "    The following is a group chat record. Write a summary of the chat record of the day based on these contents.\n",
    "    The summary must be one paragraph. The summary should not exceed 100 words.\n",
    "    \n",
    "    Quotes: {quotes}\n",
    "    \"\"\"\n",
    "\n",
    "    message = format_message(\"system\", instructions) # system means high priority\n",
    "    messages = [message] # ChatGPT API expects any message to be in a list\n",
    "    response = get_response(messages)\n",
    "\n",
    "\n",
    "    with open(filename,'w') as f:\n",
    "        f.write(response)\n",
    "\n",
    "\n",
    "for root, dirs, files in os.walk('data'):\n",
    "    for file in files:\n",
    "        if file.endswith('.csv'):\n",
    "            print(file)\n",
    "            file_path = os.path.join(root, file)\n",
    "            quotes = read_data(file_path)\n",
    "            filename = file.split(\".\")[0]\n",
    "            get_summary_and_save(quotes, f\"summary/{filename}_summary.txt\")\n"
   ]
  },
  {
   "cell_type": "code",
   "execution_count": null,
   "id": "acdd2487",
   "metadata": {},
   "outputs": [],
   "source": []
  },
  {
   "cell_type": "code",
   "execution_count": null,
   "id": "ca58d6c3",
   "metadata": {},
   "outputs": [],
   "source": []
  },
  {
   "cell_type": "markdown",
   "id": "04c4877d",
   "metadata": {},
   "source": [
    "## How many messages per day "
   ]
  },
  {
   "cell_type": "code",
   "execution_count": null,
   "id": "5f1a3876",
   "metadata": {},
   "outputs": [],
   "source": [
    "import pandas as pd"
   ]
  },
  {
   "cell_type": "code",
   "execution_count": null,
   "id": "45a25c8f",
   "metadata": {},
   "outputs": [],
   "source": [
    "df = pd.read_csv('all_messages.csv')\n",
    "df.head()"
   ]
  },
  {
   "cell_type": "code",
   "execution_count": null,
   "id": "5d16211f",
   "metadata": {},
   "outputs": [],
   "source": [
    "df['From'] = df['From'].str.strip()\n",
    "df.head()"
   ]
  },
  {
   "cell_type": "code",
   "execution_count": null,
   "id": "c886ee62",
   "metadata": {},
   "outputs": [],
   "source": [
    "df['From'].unique()"
   ]
  },
  {
   "cell_type": "code",
   "execution_count": null,
   "id": "f4881ffe",
   "metadata": {},
   "outputs": [],
   "source": [
    "df['Date'] = pd.to_datetime(df['Date'])\n",
    "\n",
    "messages_per_day = df.groupby(df['Date'].dt.date).size()\n",
    "messages_per_day"
   ]
  },
  {
   "cell_type": "code",
   "execution_count": null,
   "id": "2706532e",
   "metadata": {},
   "outputs": [],
   "source": []
  },
  {
   "cell_type": "code",
   "execution_count": null,
   "id": "06cb0bdc",
   "metadata": {},
   "outputs": [],
   "source": []
  },
  {
   "cell_type": "markdown",
   "id": "c01f95c2",
   "metadata": {},
   "source": [
    "## List the top 5 users that are most active overall"
   ]
  },
  {
   "cell_type": "code",
   "execution_count": null,
   "id": "bc5efae4",
   "metadata": {},
   "outputs": [],
   "source": [
    "top_users = df['From'].value_counts().head(5)\n",
    "top_users"
   ]
  },
  {
   "cell_type": "code",
   "execution_count": null,
   "id": "59c66851",
   "metadata": {},
   "outputs": [],
   "source": []
  },
  {
   "cell_type": "code",
   "execution_count": null,
   "id": "4d86b186",
   "metadata": {},
   "outputs": [],
   "source": []
  }
 ],
 "metadata": {
  "kernelspec": {
   "display_name": "Python 3",
   "language": "python",
   "name": "python3"
  },
  "language_info": {
   "codemirror_mode": {
    "name": "ipython",
    "version": 3
   },
   "file_extension": ".py",
   "mimetype": "text/x-python",
   "name": "python",
   "nbconvert_exporter": "python",
   "pygments_lexer": "ipython3",
   "version": "3.8.8"
  }
 },
 "nbformat": 4,
 "nbformat_minor": 5
}
